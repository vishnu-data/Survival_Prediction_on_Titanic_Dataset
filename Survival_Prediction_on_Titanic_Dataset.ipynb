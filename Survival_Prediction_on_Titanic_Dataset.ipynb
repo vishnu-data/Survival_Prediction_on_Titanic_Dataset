{
 "cells": [
  {
   "cell_type": "markdown",
   "id": "938fbefc-9838-4023-9322-e907770b5bd7",
   "metadata": {},
   "source": [
    "# Survival Prediction on the Titanic Dataset"
   ]
  },
  {
   "cell_type": "markdown",
   "id": "84a3966b-919a-4e56-8798-07ac3d5e41a4",
   "metadata": {},
   "source": [
    "## Importing the Necessary Libraries and Loading the Data"
   ]
  },
  {
   "cell_type": "code",
   "execution_count": 1,
   "id": "a13dfcd1-334c-4448-9972-973c05413b27",
   "metadata": {},
   "outputs": [
    {
     "data": {
      "text/html": [
       "<div>\n",
       "<style scoped>\n",
       "    .dataframe tbody tr th:only-of-type {\n",
       "        vertical-align: middle;\n",
       "    }\n",
       "\n",
       "    .dataframe tbody tr th {\n",
       "        vertical-align: top;\n",
       "    }\n",
       "\n",
       "    .dataframe thead th {\n",
       "        text-align: right;\n",
       "    }\n",
       "</style>\n",
       "<table border=\"1\" class=\"dataframe\">\n",
       "  <thead>\n",
       "    <tr style=\"text-align: right;\">\n",
       "      <th></th>\n",
       "      <th>PassengerId</th>\n",
       "      <th>Survived</th>\n",
       "      <th>Pclass</th>\n",
       "      <th>Name</th>\n",
       "      <th>Sex</th>\n",
       "      <th>Age</th>\n",
       "      <th>SibSp</th>\n",
       "      <th>Parch</th>\n",
       "      <th>Ticket</th>\n",
       "      <th>Fare</th>\n",
       "      <th>Cabin</th>\n",
       "      <th>Embarked</th>\n",
       "    </tr>\n",
       "  </thead>\n",
       "  <tbody>\n",
       "    <tr>\n",
       "      <th>0</th>\n",
       "      <td>1</td>\n",
       "      <td>0</td>\n",
       "      <td>3</td>\n",
       "      <td>Braund, Mr. Owen Harris</td>\n",
       "      <td>male</td>\n",
       "      <td>22.0</td>\n",
       "      <td>1</td>\n",
       "      <td>0</td>\n",
       "      <td>A/5 21171</td>\n",
       "      <td>7.2500</td>\n",
       "      <td>NaN</td>\n",
       "      <td>S</td>\n",
       "    </tr>\n",
       "    <tr>\n",
       "      <th>1</th>\n",
       "      <td>2</td>\n",
       "      <td>1</td>\n",
       "      <td>1</td>\n",
       "      <td>Cumings, Mrs. John Bradley (Florence Briggs Th...</td>\n",
       "      <td>female</td>\n",
       "      <td>38.0</td>\n",
       "      <td>1</td>\n",
       "      <td>0</td>\n",
       "      <td>PC 17599</td>\n",
       "      <td>71.2833</td>\n",
       "      <td>C85</td>\n",
       "      <td>C</td>\n",
       "    </tr>\n",
       "    <tr>\n",
       "      <th>2</th>\n",
       "      <td>3</td>\n",
       "      <td>1</td>\n",
       "      <td>3</td>\n",
       "      <td>Heikkinen, Miss. Laina</td>\n",
       "      <td>female</td>\n",
       "      <td>26.0</td>\n",
       "      <td>0</td>\n",
       "      <td>0</td>\n",
       "      <td>STON/O2. 3101282</td>\n",
       "      <td>7.9250</td>\n",
       "      <td>NaN</td>\n",
       "      <td>S</td>\n",
       "    </tr>\n",
       "    <tr>\n",
       "      <th>3</th>\n",
       "      <td>4</td>\n",
       "      <td>1</td>\n",
       "      <td>1</td>\n",
       "      <td>Futrelle, Mrs. Jacques Heath (Lily May Peel)</td>\n",
       "      <td>female</td>\n",
       "      <td>35.0</td>\n",
       "      <td>1</td>\n",
       "      <td>0</td>\n",
       "      <td>113803</td>\n",
       "      <td>53.1000</td>\n",
       "      <td>C123</td>\n",
       "      <td>S</td>\n",
       "    </tr>\n",
       "    <tr>\n",
       "      <th>4</th>\n",
       "      <td>5</td>\n",
       "      <td>0</td>\n",
       "      <td>3</td>\n",
       "      <td>Allen, Mr. William Henry</td>\n",
       "      <td>male</td>\n",
       "      <td>35.0</td>\n",
       "      <td>0</td>\n",
       "      <td>0</td>\n",
       "      <td>373450</td>\n",
       "      <td>8.0500</td>\n",
       "      <td>NaN</td>\n",
       "      <td>S</td>\n",
       "    </tr>\n",
       "  </tbody>\n",
       "</table>\n",
       "</div>"
      ],
      "text/plain": [
       "   PassengerId  Survived  Pclass  \\\n",
       "0            1         0       3   \n",
       "1            2         1       1   \n",
       "2            3         1       3   \n",
       "3            4         1       1   \n",
       "4            5         0       3   \n",
       "\n",
       "                                                Name     Sex   Age  SibSp  \\\n",
       "0                            Braund, Mr. Owen Harris    male  22.0      1   \n",
       "1  Cumings, Mrs. John Bradley (Florence Briggs Th...  female  38.0      1   \n",
       "2                             Heikkinen, Miss. Laina  female  26.0      0   \n",
       "3       Futrelle, Mrs. Jacques Heath (Lily May Peel)  female  35.0      1   \n",
       "4                           Allen, Mr. William Henry    male  35.0      0   \n",
       "\n",
       "   Parch            Ticket     Fare Cabin Embarked  \n",
       "0      0         A/5 21171   7.2500   NaN        S  \n",
       "1      0          PC 17599  71.2833   C85        C  \n",
       "2      0  STON/O2. 3101282   7.9250   NaN        S  \n",
       "3      0            113803  53.1000  C123        S  \n",
       "4      0            373450   8.0500   NaN        S  "
      ]
     },
     "execution_count": 1,
     "metadata": {},
     "output_type": "execute_result"
    }
   ],
   "source": [
    "import pandas as pd\n",
    "import numpy as np\n",
    "from sklearn.preprocessing import MinMaxScaler,StandardScaler\n",
    "from sklearn.linear_model import LinearRegression,LogisticRegression\n",
    "from sklearn.model_selection import cross_val_score,train_test_split,GridSearchCV\n",
    "from sklearn.ensemble import RandomForestClassifier,AdaBoostClassifier\n",
    "from sklearn.metrics import mean_squared_error,mean_absolute_error,confusion_matrix,accuracy_score,precision_score,f1_score\n",
    "import inspect\n",
    "import matplotlib.pyplot as plt\n",
    "import seaborn as sns\n",
    "data = pd.read_csv(\"Titanic-Dataset.csv\")\n",
    "original_data = data\n",
    "data.head()"
   ]
  },
  {
   "cell_type": "markdown",
   "id": "99aaeda5-cee3-4d58-a131-d820ab259fa1",
   "metadata": {},
   "source": [
    "# Feature Engineering"
   ]
  },
  {
   "cell_type": "markdown",
   "id": "bda6ac39-04f5-4211-924b-4475a1e2ea52",
   "metadata": {},
   "source": [
    "**Let us drop the unwanted features in the dataset**"
   ]
  },
  {
   "cell_type": "code",
   "execution_count": 3,
   "id": "3fb7e0a7-f485-4d85-a65c-68c8b99d8f5a",
   "metadata": {},
   "outputs": [
    {
     "data": {
      "text/html": [
       "<div>\n",
       "<style scoped>\n",
       "    .dataframe tbody tr th:only-of-type {\n",
       "        vertical-align: middle;\n",
       "    }\n",
       "\n",
       "    .dataframe tbody tr th {\n",
       "        vertical-align: top;\n",
       "    }\n",
       "\n",
       "    .dataframe thead th {\n",
       "        text-align: right;\n",
       "    }\n",
       "</style>\n",
       "<table border=\"1\" class=\"dataframe\">\n",
       "  <thead>\n",
       "    <tr style=\"text-align: right;\">\n",
       "      <th></th>\n",
       "      <th>Survived</th>\n",
       "      <th>Pclass</th>\n",
       "      <th>Sex</th>\n",
       "      <th>Age</th>\n",
       "      <th>SibSp</th>\n",
       "      <th>Parch</th>\n",
       "      <th>Fare</th>\n",
       "      <th>Embarked</th>\n",
       "    </tr>\n",
       "  </thead>\n",
       "  <tbody>\n",
       "    <tr>\n",
       "      <th>0</th>\n",
       "      <td>0</td>\n",
       "      <td>3</td>\n",
       "      <td>male</td>\n",
       "      <td>22.0</td>\n",
       "      <td>1</td>\n",
       "      <td>0</td>\n",
       "      <td>7.2500</td>\n",
       "      <td>S</td>\n",
       "    </tr>\n",
       "    <tr>\n",
       "      <th>1</th>\n",
       "      <td>1</td>\n",
       "      <td>1</td>\n",
       "      <td>female</td>\n",
       "      <td>38.0</td>\n",
       "      <td>1</td>\n",
       "      <td>0</td>\n",
       "      <td>71.2833</td>\n",
       "      <td>C</td>\n",
       "    </tr>\n",
       "    <tr>\n",
       "      <th>2</th>\n",
       "      <td>1</td>\n",
       "      <td>3</td>\n",
       "      <td>female</td>\n",
       "      <td>26.0</td>\n",
       "      <td>0</td>\n",
       "      <td>0</td>\n",
       "      <td>7.9250</td>\n",
       "      <td>S</td>\n",
       "    </tr>\n",
       "    <tr>\n",
       "      <th>3</th>\n",
       "      <td>1</td>\n",
       "      <td>1</td>\n",
       "      <td>female</td>\n",
       "      <td>35.0</td>\n",
       "      <td>1</td>\n",
       "      <td>0</td>\n",
       "      <td>53.1000</td>\n",
       "      <td>S</td>\n",
       "    </tr>\n",
       "    <tr>\n",
       "      <th>4</th>\n",
       "      <td>0</td>\n",
       "      <td>3</td>\n",
       "      <td>male</td>\n",
       "      <td>35.0</td>\n",
       "      <td>0</td>\n",
       "      <td>0</td>\n",
       "      <td>8.0500</td>\n",
       "      <td>S</td>\n",
       "    </tr>\n",
       "  </tbody>\n",
       "</table>\n",
       "</div>"
      ],
      "text/plain": [
       "   Survived  Pclass     Sex   Age  SibSp  Parch     Fare Embarked\n",
       "0         0       3    male  22.0      1      0   7.2500        S\n",
       "1         1       1  female  38.0      1      0  71.2833        C\n",
       "2         1       3  female  26.0      0      0   7.9250        S\n",
       "3         1       1  female  35.0      1      0  53.1000        S\n",
       "4         0       3    male  35.0      0      0   8.0500        S"
      ]
     },
     "execution_count": 3,
     "metadata": {},
     "output_type": "execute_result"
    }
   ],
   "source": [
    "data = data.drop(columns = [\"PassengerId\",\"Name\",\"Ticket\",\"Cabin\"],axis = 1)\n",
    "data.head()"
   ]
  },
  {
   "cell_type": "markdown",
   "id": "537d6209-043d-48d8-a704-e423385dde69",
   "metadata": {},
   "source": [
    "**Now the Unwanted Data Features have been Droped**"
   ]
  },
  {
   "cell_type": "markdown",
   "id": "9863614e-6ac1-4229-a1f3-9424e69cf998",
   "metadata": {},
   "source": [
    "***Now we should Check whether the Dataset has any empty Values......***"
   ]
  },
  {
   "cell_type": "code",
   "execution_count": 7,
   "id": "ad53b49e-b1a2-4f62-a370-e4aa8d39f107",
   "metadata": {},
   "outputs": [
    {
     "data": {
      "text/plain": [
       "Survived      0\n",
       "Pclass        0\n",
       "Sex           0\n",
       "Age         177\n",
       "SibSp         0\n",
       "Parch         0\n",
       "Fare          0\n",
       "Embarked      2\n",
       "dtype: int64"
      ]
     },
     "execution_count": 7,
     "metadata": {},
     "output_type": "execute_result"
    }
   ],
   "source": [
    "data.isnull().sum()"
   ]
  },
  {
   "cell_type": "markdown",
   "id": "b51e2c3b-2421-4336-9fc5-eb481b48febd",
   "metadata": {},
   "source": [
    "**It is clear to see that there is 177 missing values in the Age feature and the 2 values are missing in the Embarked...Let us fix that**"
   ]
  },
  {
   "cell_type": "code",
   "execution_count": 10,
   "id": "c842b339-d9e3-426b-a470-553419406381",
   "metadata": {},
   "outputs": [
    {
     "data": {
      "text/plain": [
       "Survived    0\n",
       "Pclass      0\n",
       "Sex         0\n",
       "Age         0\n",
       "SibSp       0\n",
       "Parch       0\n",
       "Fare        0\n",
       "Embarked    0\n",
       "dtype: int64"
      ]
     },
     "execution_count": 10,
     "metadata": {},
     "output_type": "execute_result"
    }
   ],
   "source": [
    "data[\"Age\"] = data[\"Age\"].fillna(data[\"Age\"].mean())\n",
    "data[\"Embarked\"] = data[\"Embarked\"].fillna(data[\"Embarked\"].mode()[0])\n",
    "data.isnull().sum()"
   ]
  },
  {
   "cell_type": "markdown",
   "id": "54fdc90d-9e8b-4b73-b357-12a5c0b9fdeb",
   "metadata": {},
   "source": [
    "**Now it is clear that there is no missing values in any of the Feature in our Dataset**"
   ]
  },
  {
   "cell_type": "markdown",
   "id": "b82b7c12-8e9e-4d90-ba21-10b67fd29aa5",
   "metadata": {},
   "source": [
    "**Let us display the overview of our Dataset**"
   ]
  },
  {
   "cell_type": "code",
   "execution_count": 14,
   "id": "ddee0ab4-388c-4887-9a9b-cd9c6f4c70eb",
   "metadata": {},
   "outputs": [
    {
     "data": {
      "text/html": [
       "<div>\n",
       "<style scoped>\n",
       "    .dataframe tbody tr th:only-of-type {\n",
       "        vertical-align: middle;\n",
       "    }\n",
       "\n",
       "    .dataframe tbody tr th {\n",
       "        vertical-align: top;\n",
       "    }\n",
       "\n",
       "    .dataframe thead th {\n",
       "        text-align: right;\n",
       "    }\n",
       "</style>\n",
       "<table border=\"1\" class=\"dataframe\">\n",
       "  <thead>\n",
       "    <tr style=\"text-align: right;\">\n",
       "      <th></th>\n",
       "      <th>Survived</th>\n",
       "      <th>Pclass</th>\n",
       "      <th>Age</th>\n",
       "      <th>SibSp</th>\n",
       "      <th>Parch</th>\n",
       "      <th>Fare</th>\n",
       "    </tr>\n",
       "  </thead>\n",
       "  <tbody>\n",
       "    <tr>\n",
       "      <th>count</th>\n",
       "      <td>891.000000</td>\n",
       "      <td>891.000000</td>\n",
       "      <td>891.000000</td>\n",
       "      <td>891.000000</td>\n",
       "      <td>891.000000</td>\n",
       "      <td>891.000000</td>\n",
       "    </tr>\n",
       "    <tr>\n",
       "      <th>mean</th>\n",
       "      <td>0.383838</td>\n",
       "      <td>2.308642</td>\n",
       "      <td>29.699118</td>\n",
       "      <td>0.523008</td>\n",
       "      <td>0.381594</td>\n",
       "      <td>32.204208</td>\n",
       "    </tr>\n",
       "    <tr>\n",
       "      <th>std</th>\n",
       "      <td>0.486592</td>\n",
       "      <td>0.836071</td>\n",
       "      <td>13.002015</td>\n",
       "      <td>1.102743</td>\n",
       "      <td>0.806057</td>\n",
       "      <td>49.693429</td>\n",
       "    </tr>\n",
       "    <tr>\n",
       "      <th>min</th>\n",
       "      <td>0.000000</td>\n",
       "      <td>1.000000</td>\n",
       "      <td>0.420000</td>\n",
       "      <td>0.000000</td>\n",
       "      <td>0.000000</td>\n",
       "      <td>0.000000</td>\n",
       "    </tr>\n",
       "    <tr>\n",
       "      <th>25%</th>\n",
       "      <td>0.000000</td>\n",
       "      <td>2.000000</td>\n",
       "      <td>22.000000</td>\n",
       "      <td>0.000000</td>\n",
       "      <td>0.000000</td>\n",
       "      <td>7.910400</td>\n",
       "    </tr>\n",
       "    <tr>\n",
       "      <th>50%</th>\n",
       "      <td>0.000000</td>\n",
       "      <td>3.000000</td>\n",
       "      <td>29.699118</td>\n",
       "      <td>0.000000</td>\n",
       "      <td>0.000000</td>\n",
       "      <td>14.454200</td>\n",
       "    </tr>\n",
       "    <tr>\n",
       "      <th>75%</th>\n",
       "      <td>1.000000</td>\n",
       "      <td>3.000000</td>\n",
       "      <td>35.000000</td>\n",
       "      <td>1.000000</td>\n",
       "      <td>0.000000</td>\n",
       "      <td>31.000000</td>\n",
       "    </tr>\n",
       "    <tr>\n",
       "      <th>max</th>\n",
       "      <td>1.000000</td>\n",
       "      <td>3.000000</td>\n",
       "      <td>80.000000</td>\n",
       "      <td>8.000000</td>\n",
       "      <td>6.000000</td>\n",
       "      <td>512.329200</td>\n",
       "    </tr>\n",
       "  </tbody>\n",
       "</table>\n",
       "</div>"
      ],
      "text/plain": [
       "         Survived      Pclass         Age       SibSp       Parch        Fare\n",
       "count  891.000000  891.000000  891.000000  891.000000  891.000000  891.000000\n",
       "mean     0.383838    2.308642   29.699118    0.523008    0.381594   32.204208\n",
       "std      0.486592    0.836071   13.002015    1.102743    0.806057   49.693429\n",
       "min      0.000000    1.000000    0.420000    0.000000    0.000000    0.000000\n",
       "25%      0.000000    2.000000   22.000000    0.000000    0.000000    7.910400\n",
       "50%      0.000000    3.000000   29.699118    0.000000    0.000000   14.454200\n",
       "75%      1.000000    3.000000   35.000000    1.000000    0.000000   31.000000\n",
       "max      1.000000    3.000000   80.000000    8.000000    6.000000  512.329200"
      ]
     },
     "execution_count": 14,
     "metadata": {},
     "output_type": "execute_result"
    }
   ],
   "source": [
    "data.describe()"
   ]
  },
  {
   "cell_type": "markdown",
   "id": "953f16bb-2a7a-41cc-9230-9d79a785798e",
   "metadata": {},
   "source": [
    "### Preprocessing the Data"
   ]
  },
  {
   "cell_type": "code",
   "execution_count": 17,
   "id": "d4a8cbb8-4fae-4441-96a3-12bf3cceb37b",
   "metadata": {},
   "outputs": [
    {
     "data": {
      "text/html": [
       "<div>\n",
       "<style scoped>\n",
       "    .dataframe tbody tr th:only-of-type {\n",
       "        vertical-align: middle;\n",
       "    }\n",
       "\n",
       "    .dataframe tbody tr th {\n",
       "        vertical-align: top;\n",
       "    }\n",
       "\n",
       "    .dataframe thead th {\n",
       "        text-align: right;\n",
       "    }\n",
       "</style>\n",
       "<table border=\"1\" class=\"dataframe\">\n",
       "  <thead>\n",
       "    <tr style=\"text-align: right;\">\n",
       "      <th></th>\n",
       "      <th>Survived</th>\n",
       "      <th>Pclass</th>\n",
       "      <th>Sex</th>\n",
       "      <th>Age</th>\n",
       "      <th>SibSp</th>\n",
       "      <th>Parch</th>\n",
       "      <th>Fare</th>\n",
       "      <th>Embarked</th>\n",
       "    </tr>\n",
       "  </thead>\n",
       "  <tbody>\n",
       "    <tr>\n",
       "      <th>0</th>\n",
       "      <td>0</td>\n",
       "      <td>3</td>\n",
       "      <td>male</td>\n",
       "      <td>0.271174</td>\n",
       "      <td>1</td>\n",
       "      <td>0</td>\n",
       "      <td>-0.502445</td>\n",
       "      <td>S</td>\n",
       "    </tr>\n",
       "    <tr>\n",
       "      <th>1</th>\n",
       "      <td>1</td>\n",
       "      <td>1</td>\n",
       "      <td>female</td>\n",
       "      <td>0.472229</td>\n",
       "      <td>1</td>\n",
       "      <td>0</td>\n",
       "      <td>0.786845</td>\n",
       "      <td>C</td>\n",
       "    </tr>\n",
       "    <tr>\n",
       "      <th>2</th>\n",
       "      <td>1</td>\n",
       "      <td>3</td>\n",
       "      <td>female</td>\n",
       "      <td>0.321438</td>\n",
       "      <td>0</td>\n",
       "      <td>0</td>\n",
       "      <td>-0.488854</td>\n",
       "      <td>S</td>\n",
       "    </tr>\n",
       "    <tr>\n",
       "      <th>3</th>\n",
       "      <td>1</td>\n",
       "      <td>1</td>\n",
       "      <td>female</td>\n",
       "      <td>0.434531</td>\n",
       "      <td>1</td>\n",
       "      <td>0</td>\n",
       "      <td>0.420730</td>\n",
       "      <td>S</td>\n",
       "    </tr>\n",
       "    <tr>\n",
       "      <th>4</th>\n",
       "      <td>0</td>\n",
       "      <td>3</td>\n",
       "      <td>male</td>\n",
       "      <td>0.434531</td>\n",
       "      <td>0</td>\n",
       "      <td>0</td>\n",
       "      <td>-0.486337</td>\n",
       "      <td>S</td>\n",
       "    </tr>\n",
       "  </tbody>\n",
       "</table>\n",
       "</div>"
      ],
      "text/plain": [
       "   Survived  Pclass     Sex       Age  SibSp  Parch      Fare Embarked\n",
       "0         0       3    male  0.271174      1      0 -0.502445        S\n",
       "1         1       1  female  0.472229      1      0  0.786845        C\n",
       "2         1       3  female  0.321438      0      0 -0.488854        S\n",
       "3         1       1  female  0.434531      1      0  0.420730        S\n",
       "4         0       3    male  0.434531      0      0 -0.486337        S"
      ]
     },
     "execution_count": 17,
     "metadata": {},
     "output_type": "execute_result"
    }
   ],
   "source": [
    "scaler = MinMaxScaler()\n",
    "data[\"Age\"] = scaler.fit_transform(data[[\"Age\"]])\n",
    "scaler = StandardScaler()\n",
    "data[\"Fare\"] = scaler.fit_transform(data[[\"Fare\"]])\n",
    "data.head()"
   ]
  },
  {
   "cell_type": "code",
   "execution_count": 19,
   "id": "8d0b8f02-9050-4c5a-80c1-c4875876d2b9",
   "metadata": {},
   "outputs": [
    {
     "data": {
      "text/html": [
       "<div>\n",
       "<style scoped>\n",
       "    .dataframe tbody tr th:only-of-type {\n",
       "        vertical-align: middle;\n",
       "    }\n",
       "\n",
       "    .dataframe tbody tr th {\n",
       "        vertical-align: top;\n",
       "    }\n",
       "\n",
       "    .dataframe thead th {\n",
       "        text-align: right;\n",
       "    }\n",
       "</style>\n",
       "<table border=\"1\" class=\"dataframe\">\n",
       "  <thead>\n",
       "    <tr style=\"text-align: right;\">\n",
       "      <th></th>\n",
       "      <th>Survived</th>\n",
       "      <th>Pclass</th>\n",
       "      <th>Age</th>\n",
       "      <th>SibSp</th>\n",
       "      <th>Parch</th>\n",
       "      <th>Fare</th>\n",
       "      <th>Sex_male</th>\n",
       "      <th>Embarked_Q</th>\n",
       "      <th>Embarked_S</th>\n",
       "    </tr>\n",
       "  </thead>\n",
       "  <tbody>\n",
       "    <tr>\n",
       "      <th>0</th>\n",
       "      <td>0</td>\n",
       "      <td>3</td>\n",
       "      <td>0.271174</td>\n",
       "      <td>1</td>\n",
       "      <td>0</td>\n",
       "      <td>-0.502445</td>\n",
       "      <td>True</td>\n",
       "      <td>False</td>\n",
       "      <td>True</td>\n",
       "    </tr>\n",
       "    <tr>\n",
       "      <th>1</th>\n",
       "      <td>1</td>\n",
       "      <td>1</td>\n",
       "      <td>0.472229</td>\n",
       "      <td>1</td>\n",
       "      <td>0</td>\n",
       "      <td>0.786845</td>\n",
       "      <td>False</td>\n",
       "      <td>False</td>\n",
       "      <td>False</td>\n",
       "    </tr>\n",
       "    <tr>\n",
       "      <th>2</th>\n",
       "      <td>1</td>\n",
       "      <td>3</td>\n",
       "      <td>0.321438</td>\n",
       "      <td>0</td>\n",
       "      <td>0</td>\n",
       "      <td>-0.488854</td>\n",
       "      <td>False</td>\n",
       "      <td>False</td>\n",
       "      <td>True</td>\n",
       "    </tr>\n",
       "    <tr>\n",
       "      <th>3</th>\n",
       "      <td>1</td>\n",
       "      <td>1</td>\n",
       "      <td>0.434531</td>\n",
       "      <td>1</td>\n",
       "      <td>0</td>\n",
       "      <td>0.420730</td>\n",
       "      <td>False</td>\n",
       "      <td>False</td>\n",
       "      <td>True</td>\n",
       "    </tr>\n",
       "    <tr>\n",
       "      <th>4</th>\n",
       "      <td>0</td>\n",
       "      <td>3</td>\n",
       "      <td>0.434531</td>\n",
       "      <td>0</td>\n",
       "      <td>0</td>\n",
       "      <td>-0.486337</td>\n",
       "      <td>True</td>\n",
       "      <td>False</td>\n",
       "      <td>True</td>\n",
       "    </tr>\n",
       "  </tbody>\n",
       "</table>\n",
       "</div>"
      ],
      "text/plain": [
       "   Survived  Pclass       Age  SibSp  Parch      Fare  Sex_male  Embarked_Q  \\\n",
       "0         0       3  0.271174      1      0 -0.502445      True       False   \n",
       "1         1       1  0.472229      1      0  0.786845     False       False   \n",
       "2         1       3  0.321438      0      0 -0.488854     False       False   \n",
       "3         1       1  0.434531      1      0  0.420730     False       False   \n",
       "4         0       3  0.434531      0      0 -0.486337      True       False   \n",
       "\n",
       "   Embarked_S  \n",
       "0        True  \n",
       "1       False  \n",
       "2        True  \n",
       "3        True  \n",
       "4        True  "
      ]
     },
     "execution_count": 19,
     "metadata": {},
     "output_type": "execute_result"
    }
   ],
   "source": [
    "data = pd.get_dummies(data,columns = [\"Sex\",\"Embarked\"],drop_first = True)\n",
    "data.head()"
   ]
  },
  {
   "cell_type": "markdown",
   "id": "3024f455-4339-46b4-9715-84b1483b0492",
   "metadata": {},
   "source": [
    "**Lets us confirm that our Dataset Only contains the Numerical values without the objects**"
   ]
  },
  {
   "cell_type": "code",
   "execution_count": 22,
   "id": "43d4d9f5-5174-47bb-8b48-f474f2409b0f",
   "metadata": {},
   "outputs": [
    {
     "name": "stdout",
     "output_type": "stream",
     "text": [
      "<class 'pandas.core.frame.DataFrame'>\n",
      "RangeIndex: 891 entries, 0 to 890\n",
      "Data columns (total 9 columns):\n",
      " #   Column      Non-Null Count  Dtype  \n",
      "---  ------      --------------  -----  \n",
      " 0   Survived    891 non-null    int64  \n",
      " 1   Pclass      891 non-null    int64  \n",
      " 2   Age         891 non-null    float64\n",
      " 3   SibSp       891 non-null    int64  \n",
      " 4   Parch       891 non-null    int64  \n",
      " 5   Fare        891 non-null    float64\n",
      " 6   Sex_male    891 non-null    bool   \n",
      " 7   Embarked_Q  891 non-null    bool   \n",
      " 8   Embarked_S  891 non-null    bool   \n",
      "dtypes: bool(3), float64(2), int64(4)\n",
      "memory usage: 44.5 KB\n"
     ]
    }
   ],
   "source": [
    "data.info()"
   ]
  },
  {
   "cell_type": "markdown",
   "id": "3a24f9ae-5026-430b-813e-06f549e02271",
   "metadata": {},
   "source": [
    "**Let us Visulaize the relationsip between the Dependent and the Independent variables of our Dataset**"
   ]
  },
  {
   "cell_type": "code",
   "execution_count": 25,
   "id": "228fe418-d075-48fb-9074-4217df8a28f6",
   "metadata": {},
   "outputs": [
    {
     "data": {
      "image/png": "[encoded data removed]",
      "text/plain": [
       "<Figure size 640x480 with 1 Axes>"
      ]
     },
     "metadata": {},
     "output_type": "display_data"
    }
   ],
   "source": [
    "sns.countplot(data=data,x = \"Pclass\",hue = \"Survived\",palette = 'Set2')\n",
    "plt.show()"
   ]
  },
  {
   "cell_type": "code",
   "execution_count": 27,
   "id": "a9c9d082-c8f7-4c5f-b140-5bdac9b3dec1",
   "metadata": {},
   "outputs": [
    {
     "data": {
      "text/plain": [
       "<seaborn.axisgrid.FacetGrid at 0x1e32c32e480>"
      ]
     },
     "execution_count": 27,
     "metadata": {},
     "output_type": "execute_result"
    },
    {
     "data": {
      "image/png": "[encoded data removed]",
      "text/plain": [
       "<Figure size 572.111x500 with 1 Axes>"
      ]
     },
     "metadata": {},
     "output_type": "display_data"
    }
   ],
   "source": [
    "sns.catplot (data=original_data,x = \"Sex\",hue = \"Survived\",y ='Age',palette = 'Set1',kind = 'bar')"
   ]
  },
  {
   "cell_type": "code",
   "execution_count": 29,
   "id": "06e266bd-5564-4262-975f-1a5788e9c3c4",
   "metadata": {},
   "outputs": [],
   "source": [
    "linear_models = [\n",
    "(\"Linear Regression\",LinearRegression),\n",
    "(\"Logistic Regression\",LogisticRegression)\n",
    "]\n",
    "Classifiers = [\n",
    "    (\"Random Forest\",RandomForestClassifier),\n",
    "    (\"Ada Boost\",AdaBoostClassifier)\n",
    "]"
   ]
  },
  {
   "cell_type": "markdown",
   "id": "0d6594de-dd7c-44c7-8449-7419c11b254b",
   "metadata": {},
   "source": [
    "**Let us know about the Parameters of the Linear and the Logistic Regressors.**"
   ]
  },
  {
   "cell_type": "code",
   "execution_count": 32,
   "id": "9a9ba4c6-a17f-40c8-aaa9-cbdeb18d9151",
   "metadata": {},
   "outputs": [
    {
     "name": "stdout",
     "output_type": "stream",
     "text": [
      "<class 'sklearn.linear_model._base.LinearRegression'>\n",
      "fit_intercept:True\n",
      "copy_X:True\n",
      "n_jobs:None\n",
      "positive:False\n",
      "----------------------------------------\n",
      "<class 'sklearn.linear_model._logistic.LogisticRegression'>\n",
      "penalty:l2\n",
      "dual:False\n",
      "tol:0.0001\n",
      "C:1.0\n",
      "fit_intercept:True\n",
      "intercept_scaling:1\n",
      "class_weight:None\n",
      "random_state:None\n",
      "solver:lbfgs\n",
      "max_iter:100\n",
      "multi_class:deprecated\n",
      "verbose:0\n",
      "warm_start:False\n",
      "n_jobs:None\n",
      "l1_ratio:None\n",
      "----------------------------------------\n"
     ]
    }
   ],
   "source": [
    "def display_params(estimator):\n",
    "    signature = inspect.signature(estimator)\n",
    "    print(estimator)\n",
    "    for params in signature.parameters.values():\n",
    "        print(f\"{params.name}:{params.default}\")\n",
    "    print(\"-\"*40)\n",
    "for name,model in linear_models:\n",
    "    display_params(model)"
   ]
  },
  {
   "cell_type": "code",
   "execution_count": 34,
   "id": "39667d3f-d480-47d7-bb74-f7551d505a85",
   "metadata": {},
   "outputs": [
    {
     "name": "stdout",
     "output_type": "stream",
     "text": [
      "<class 'sklearn.ensemble._forest.RandomForestClassifier'>\n",
      "n_estimators:100\n",
      "criterion:gini\n",
      "max_depth:None\n",
      "min_samples_split:2\n",
      "min_samples_leaf:1\n",
      "min_weight_fraction_leaf:0.0\n",
      "max_features:sqrt\n",
      "max_leaf_nodes:None\n",
      "min_impurity_decrease:0.0\n",
      "bootstrap:True\n",
      "oob_score:False\n",
      "n_jobs:None\n",
      "random_state:None\n",
      "verbose:0\n",
      "warm_start:False\n",
      "class_weight:None\n",
      "ccp_alpha:0.0\n",
      "max_samples:None\n",
      "monotonic_cst:None\n",
      "----------------------------------------\n",
      "<class 'sklearn.ensemble._weight_boosting.AdaBoostClassifier'>\n",
      "estimator:None\n",
      "n_estimators:50\n",
      "learning_rate:1.0\n",
      "algorithm:SAMME.R\n",
      "random_state:None\n",
      "----------------------------------------\n"
     ]
    }
   ],
   "source": [
    "for name,model in Classifiers:\n",
    "    display_params(model)"
   ]
  },
  {
   "cell_type": "markdown",
   "id": "dfa914ce-293a-42c1-84cd-d24bc89e0d75",
   "metadata": {},
   "source": [
    "**Now we got the parameters and let us find the best Parameters That gives the best Optimal Soluctions**"
   ]
  },
  {
   "cell_type": "markdown",
   "id": "fb4f5863-db2a-44e1-a914-3b21b8d1c944",
   "metadata": {},
   "source": [
    "# Hyper Parameter Tuning"
   ]
  },
  {
   "cell_type": "markdown",
   "id": "303fc08f-e96f-4362-97b8-d94051a058b0",
   "metadata": {},
   "source": [
    "### Hyperparameter Tuning for Linear Regression Model"
   ]
  },
  {
   "cell_type": "code",
   "execution_count": 39,
   "id": "ba45b00f-d54a-4219-865e-7a1f963f00fb",
   "metadata": {},
   "outputs": [
    {
     "name": "stdout",
     "output_type": "stream",
     "text": [
      "The Best Parameters: {'copy_X': True, 'fit_intercept': True, 'n_jobs': None, 'positive': False}\n",
      "Best Accuracy: nan\n"
     ]
    },
    {
     "name": "stderr",
     "output_type": "stream",
     "text": [
      "C:\\Users\\vinu0\\anaconda3\\Lib\\site-packages\\sklearn\\model_selection\\_search.py:1102: UserWarning: One or more of the test scores are non-finite: [nan nan nan nan nan nan nan nan nan nan nan nan nan nan nan nan nan nan\n",
      " nan nan nan nan nan nan nan nan nan nan nan nan nan nan nan nan nan nan\n",
      " nan nan nan nan nan nan nan nan nan nan nan nan nan nan nan nan nan nan\n",
      " nan nan nan nan nan nan nan nan nan nan nan nan nan nan nan nan nan nan\n",
      " nan nan nan nan nan nan nan nan nan nan nan nan nan nan nan nan nan nan\n",
      " nan nan nan nan nan nan]\n",
      "  warnings.warn(\n"
     ]
    }
   ],
   "source": [
    "x=data.drop(\"Survived\",axis = 1)\n",
    "y = data[\"Survived\"]\n",
    "parameters = {\n",
    "    'fit_intercept':[True,False],\n",
    "    'copy_X':[True,False],\n",
    "    'n_jobs': [None] + list(range(1, 12)),\n",
    "    'positive':[False,True]\n",
    "}\n",
    "x_train,x_test,y_train,y_test = train_test_split(x,y,test_size = 0.25,random_state = 4)\n",
    "lin_model = LinearRegression()\n",
    "grid_search = GridSearchCV(lin_model,parameters,cv = 5,scoring = 'accuracy',n_jobs=-1)\n",
    "grid_search.fit(x_train,y_train)\n",
    "best_parameters = grid_search.best_params_ \n",
    "best_score = grid_search.best_score_ \n",
    "print(f\"The Best Parameters: {best_parameters}\") \n",
    "print(f\"Best Accuracy: {best_score}\")"
   ]
  },
  {
   "cell_type": "markdown",
   "id": "823c431c-e04f-465b-9911-0a38c8be0709",
   "metadata": {},
   "source": [
    "**Let us code a function that takes the sample inputs from the user and takes as the data and predicts whether The Passenger is Survived or Dead**"
   ]
  },
  {
   "cell_type": "markdown",
   "id": "14f02f5d-a148-4e42-9923-8dc4ab129a72",
   "metadata": {},
   "source": [
    "**Now Let us change the Columns of the Name for Convinience**"
   ]
  },
  {
   "cell_type": "code",
   "execution_count": 43,
   "id": "a51ba4d9-7b8e-4e17-bf81-77ee755febb9",
   "metadata": {},
   "outputs": [],
   "source": [
    "data.columns = [\"Survived\",\"Passenger_Class\",\"Age\",\"Count_of_sibilings_and_spouce\",\"count_of_parents_and_children\",\"Fare\",\"Male\",\"Embarked_from_Queenstown\",\"Embarked_from_Southampton\"]"
   ]
  },
  {
   "cell_type": "code",
   "execution_count": 76,
   "id": "e379a93d-a9a7-4628-9921-483c1997938f",
   "metadata": {},
   "outputs": [],
   "source": [
    "fare_min = data[\"Fare\"].min()\n",
    "fare_max = data[\"Fare\"].max()\n",
    "fare_scaler = MinMaxScaler(feature_range=(0, 1))\n",
    "fare_scaler.fit(np.array([fare_min, fare_max]).reshape(-1, 1))\n",
    "def check():\n",
    "    print(\"Enter input values for the given features: \")\n",
    "    array = []\n",
    "    Passenger_Class = int(input(\"Enter the class of the Passenger that They have Booked: \"))\n",
    "    Age = int(input(\"Enter the age of the Passenger: \"))\n",
    "    Count_of_siblings_and_spouse = int(input(\"Enter the Count of the passenger's Sibling and Spouse that they have also travelled with them: \"))\n",
    "    count_of_parents_and_children = int(input(\"Enter the Count of the passenger's Parent and Children that they have also travelled with them: \"))\n",
    "    Fare = float(input(\"Enter the Fare of the Ticket of the Passenger that they have travelled: \"))\n",
    "    Fare = fare_scaler.transform(np.array([[Fare]]))[0][0]\n",
    "    Male = int(input(\"If the passenger is Male, write '1'; otherwise, '0': \").strip())\n",
    "    Embarked_from_Queenstown = int(input(\"Whether the Passenger Embarked from Queenstown (1 for Yes, 0 for No): \"))\n",
    "    Embarked_from_Southampton = int(input(\"Whether the Passenger Embarked from Southampton (1 for Yes, 0 for No): \"))\n",
    "    array.extend([Passenger_Class, Age, Count_of_siblings_and_spouse, count_of_parents_and_children, Fare, Male, Embarked_from_Queenstown, Embarked_from_Southampton]) \n",
    "    array = np.asarray(array, dtype=np.float32).reshape(1, -1)\n",
    "    prediction = model.predict(array)\n",
    "    print(prediction)\n",
    "    print(f\"Passenger Class = {Passenger_Class} \\n\"\n",
    "      f\"Age = {Age} \\n\"\n",
    "      f\"Count_of_siblings_and_spouse = {Count_of_siblings_and_spouse} \\n\"\n",
    "      f\"count_of_parents_and_children = {count_of_parents_and_children} \\n\"\n",
    "      f\"Fare = {fare_scaler.inverse_transform(np.array([[Fare]]))[0][0]} \\n\"\n",
    "      f\"Male = {Male} \\n\"\n",
    "      f\"Embarked_from_Queenstown = {Embarked_from_Queenstown} \\n\"\n",
    "      f\"Embarked_from_Southampton = {Embarked_from_Southampton}\")\n",
    "\n",
    "    if prediction == 1:\n",
    "        print(\"Based on the values given, the Passenger has Survived from the Titanic Disaster.\")\n",
    "    else:\n",
    "        print(\"Based on the values given, the Passenger has Unfortunately not Survived in the Titanic Disaster.\")"
   ]
  },
  {
   "cell_type": "markdown",
   "id": "6e73bfad-6c6d-4663-9514-ea616fffbed5",
   "metadata": {},
   "source": [
    "**So we Got the Best Parameters so we can apply this parameters**"
   ]
  },
  {
   "cell_type": "code",
   "execution_count": 79,
   "id": "b6ac5d46-42a7-4df7-93c4-8ccb8ee81c4c",
   "metadata": {},
   "outputs": [
    {
     "name": "stdout",
     "output_type": "stream",
     "text": [
      "Mean Squared Error: 0.12967317999626324\n",
      "Enter input values for the given features: \n"
     ]
    },
    {
     "name": "stdin",
     "output_type": "stream",
     "text": [
      "Enter the class of the Passenger that They have Booked:  1\n",
      "Enter the age of the Passenger:  67\n",
      "Enter the Count of the passenger's Sibling and Spouse that they have also travelled with them:  1\n",
      "Enter the Count of the passenger's Parent and Children that they have also travelled with them:  2\n",
      "Enter the Fare of the Ticket of the Passenger that they have travelled:  146\n",
      "If the passenger is Male, write '1'; otherwise, '0':  1\n",
      "Whether the Passenger Embarked from Queenstown (1 for Yes, 0 for No):  1\n",
      "Whether the Passenger Embarked from Southampton (1 for Yes, 0 for No):  0\n"
     ]
    },
    {
     "name": "stdout",
     "output_type": "stream",
     "text": [
      "[-28.02855223]\n",
      "Passenger Class = 1 \n",
      "Age = 67 \n",
      "Count_of_siblings_and_spouse = 1 \n",
      "count_of_parents_and_children = 2 \n",
      "Fare = 146.0 \n",
      "Male = 1 \n",
      "Embarked_from_Queenstown = 1 \n",
      "Embarked_from_Southampton = 0\n",
      "Based on the values given, the Passenger has Unfortunately not Survived in the Titanic Disaster.\n"
     ]
    },
    {
     "name": "stderr",
     "output_type": "stream",
     "text": [
      "C:\\Users\\vinu0\\anaconda3\\Lib\\site-packages\\sklearn\\base.py:493: UserWarning: X does not have valid feature names, but LinearRegression was fitted with feature names\n",
      "  warnings.warn(\n"
     ]
    }
   ],
   "source": [
    "model = LinearRegression(\n",
    "    fit_intercept= True, copy_X= True, n_jobs= None, positive= False\n",
    ")\n",
    "model.fit(x_train,y_train)\n",
    "y_pred_lin = model.predict(x_test)\n",
    "from sklearn.metrics import mean_squared_error\n",
    "mse = mean_squared_error(y_test, y_pred_lin)\n",
    "print(f\"Mean Squared Error: {mse}\")\n",
    "check()"
   ]
  },
  {
   "cell_type": "markdown",
   "id": "34f1ae8d-05d7-4c1a-a08e-d4668a70f64a",
   "metadata": {},
   "source": [
    "**Now let us check for the Other Linear Model Logistic Regression to check the accuracy and the performance of the model**"
   ]
  },
  {
   "cell_type": "markdown",
   "id": "a78462ac-d8e0-469c-9e3a-70d47ba8199e",
   "metadata": {},
   "source": [
    "*_Here we have two penalties l1 and l2 some parameters are incompatible with the others so we have two dictionaries l1 and l2 to avoid the errors_*"
   ]
  },
  {
   "cell_type": "code",
   "execution_count": 72,
   "id": "8bde9dbf-9083-4044-8b7d-d882ce9a18ee",
   "metadata": {},
   "outputs": [
    {
     "name": "stdout",
     "output_type": "stream",
     "text": [
      "The Best Parameters: {'C': 1.0, 'fit_intercept': True, 'max_iter': 100, 'multi_class': 'auto', 'n_jobs': -1, 'penalty': 'l2', 'solver': 'lbfgs', 'tol': 0.001}\n",
      "Best Accuracy: 0.7888452474469756\n"
     ]
    },
    {
     "name": "stderr",
     "output_type": "stream",
     "text": [
      "C:\\Users\\vinu0\\anaconda3\\Lib\\site-packages\\sklearn\\linear_model\\_logistic.py:1247: FutureWarning: 'multi_class' was deprecated in version 1.5 and will be removed in 1.7. From then on, it will always use 'multinomial'. Leave it to its default value to avoid this warning.\n",
      "  warnings.warn(\n"
     ]
    }
   ],
   "source": [
    "parameters = {\n",
    "    'penalty': ['l2'], \n",
    "    'tol': [1e-4, 1e-3],\n",
    "    'C': [0.01, 0.1, 1.0],\n",
    "    'fit_intercept': [True, False],\n",
    "    'solver': ['lbfgs', 'sag', 'saga'],  \n",
    "    'max_iter': [100, 200],\n",
    "    'multi_class': ['auto'],\n",
    "    'n_jobs': [-1]\n",
    "}\n",
    "parameters_liblinear = {\n",
    "    'penalty': ['l1', 'l2'],\n",
    "    'dual': [False],\n",
    "    'tol': [1e-4, 1e-3],\n",
    "    'C': [0.01, 0.1, 1.0],\n",
    "    'fit_intercept': [True, False],\n",
    "    'solver': ['liblinear'],  \n",
    "    'max_iter': [100, 200],\n",
    "    'multi_class': ['auto'],\n",
    "    'n_jobs': [-1]\n",
    "}\n",
    "model = LogisticRegression()\n",
    "grid_search = GridSearchCV(model, [parameters, parameters_liblinear], cv=5, scoring='accuracy', n_jobs=-1)\n",
    "grid_search.fit(x_train, y_train)\n",
    "best_parameters = grid_search.best_params_\n",
    "best_score = grid_search.best_score_\n",
    "print(f\"The Best Parameters: {best_parameters}\")\n",
    "print(f\"Best Accuracy: {best_score}\")"
   ]
  },
  {
   "cell_type": "code",
   "execution_count": 73,
   "id": "9fff8ee8-6f41-4c57-98b0-1251485f8a33",
   "metadata": {},
   "outputs": [
    {
     "name": "stderr",
     "output_type": "stream",
     "text": [
      "C:\\Users\\vinu0\\anaconda3\\Lib\\site-packages\\sklearn\\linear_model\\_logistic.py:1247: FutureWarning: 'multi_class' was deprecated in version 1.5 and will be removed in 1.7. From then on, it will always use 'multinomial'. Leave it to its default value to avoid this warning.\n",
      "  warnings.warn(\n"
     ]
    },
    {
     "name": "stdout",
     "output_type": "stream",
     "text": [
      "Accuracy: 0.820627802690583\n",
      "Enter input values for the given features: \n"
     ]
    },
    {
     "name": "stdin",
     "output_type": "stream",
     "text": [
      "Enter the class of the Passenger that They have Booked:  3\n",
      "Enter the age of the Passenger:  56\n",
      "Enter the Count of the passenger's Sibling and Spouse that they have also travelled with them:  0\n",
      "Enter the Count of the passenger's Parent and Children that they have also travelled with them:  2\n",
      "Enter the Fare of the Ticket of the Passenger that they have travelled:  111\n",
      "If the passenger is Male, write '1'; otherwise, '0':  0\n",
      "Whether the Passenger Embarked from Queenstown (1 for Yes, 0 for No):  1\n",
      "Whether the Passenger Embarked from Southampton (1 for Yes, 0 for No):  0\n"
     ]
    },
    {
     "name": "stdout",
     "output_type": "stream",
     "text": [
      "[0]\n",
      "Passenger Class = 3 \n",
      "Age = 56 \n",
      "Count_of_siblings_and_spouse = 0 \n",
      "count_of_parents_and_children = 2 \n",
      "Fare = 111.0 \n",
      "Male = 0 \n",
      "Embarked_from_Queenstown = 1 \n",
      "Embarked_from_Southampton = 0\n",
      "Based on the values given, the Passenger has Unfortunately not Survived in the Titanic Disaster.\n"
     ]
    },
    {
     "name": "stderr",
     "output_type": "stream",
     "text": [
      "C:\\Users\\vinu0\\anaconda3\\Lib\\site-packages\\sklearn\\base.py:493: UserWarning: X does not have valid feature names, but LogisticRegression was fitted with feature names\n",
      "  warnings.warn(\n"
     ]
    }
   ],
   "source": [
    "model = LogisticRegression( \n",
    "    C=best_parameters['C'], \n",
    "    fit_intercept=best_parameters['fit_intercept'], \n",
    "    max_iter=best_parameters['max_iter'], \n",
    "    multi_class=best_parameters['multi_class'], \n",
    "    n_jobs=best_parameters['n_jobs'], \n",
    "    penalty=best_parameters['penalty'], \n",
    "    solver=best_parameters['solver'], \n",
    "    tol=best_parameters['tol'] \n",
    ")\n",
    "model.fit(x_train, y_train) \n",
    "y_pred = model.predict(x_test) \n",
    "accuracy = accuracy_score(y_test, y_pred)\n",
    "print(f\"Accuracy: {accuracy}\")\n",
    "check()"
   ]
  },
  {
   "cell_type": "markdown",
   "id": "222656d9-d8f7-4b70-99de-3ab222bb771b",
   "metadata": {},
   "source": [
    "**Now we have completed the Linear Models by Using the LinearRegression and the LogisticRegression**"
   ]
  },
  {
   "cell_type": "markdown",
   "id": "4cbc09ce-18a2-4b09-9937-1e29550ab0dc",
   "metadata": {},
   "source": [
    "**Now let us move to the Classifiers. let us take the RandomTreeClassfier and the AdaBoostClassifier**"
   ]
  },
  {
   "cell_type": "code",
   "execution_count": 58,
   "id": "228ef0e0-b254-4fbb-9fed-03c80bdfe5bc",
   "metadata": {},
   "outputs": [
    {
     "name": "stdout",
     "output_type": "stream",
     "text": [
      "The Best Parameters are {'bootstrap': True, 'criterion': 'entropy', 'max_depth': 10, 'max_features': 'log2', 'min_samples_leaf': 1, 'min_samples_split': 2, 'n_estimators': 50, 'n_jobs': -1, 'random_state': 42}\n",
      "The Best Scores are 0.827864437212434 \n"
     ]
    }
   ],
   "source": [
    "parameters={\n",
    "    'n_estimators': [50, 100],\n",
    "    'criterion': ['gini', 'entropy'], \n",
    "    'max_depth': [None, 10],\n",
    "    'min_samples_split': [2, 5], \n",
    "    'min_samples_leaf': [1, 2], \n",
    "    'max_features': ['sqrt', 'log2'], \n",
    "    'bootstrap': [True, False], \n",
    "    'n_jobs': [-1], \n",
    "    'random_state': [42] \n",
    "}\n",
    "model = RandomForestClassifier()\n",
    "grid_search = GridSearchCV(model,parameters,cv = 5,scoring = 'accuracy',n_jobs = -1)\n",
    "grid_search.fit(x_train,y_train)\n",
    "best_parameters = grid_search.best_params_\n",
    "best_score = grid_search.best_score_\n",
    "print(f\"The Best Parameters are {best_parameters}\")\n",
    "print(f\"The Best Scores are {best_score} \")"
   ]
  },
  {
   "cell_type": "markdown",
   "id": "5fc24290-173c-4c36-b9e6-04eeee9421cc",
   "metadata": {},
   "source": [
    "**We could also calculate for all the parameters for the Random Forest but It would be very lengthy process for the Grid Search CV all the parameter values so for Now we are using the selective best parameter**"
   ]
  },
  {
   "cell_type": "code",
   "execution_count": 66,
   "id": "4e0224a8-eee3-4e64-8690-8ced9f328e17",
   "metadata": {},
   "outputs": [
    {
     "name": "stdout",
     "output_type": "stream",
     "text": [
      "The accuracy Score for the Random Forest Classifier is 0.8340807174887892\n",
      "Enter input values for the given features: \n"
     ]
    },
    {
     "name": "stdin",
     "output_type": "stream",
     "text": [
      "Enter the class of the Passenger that They have Booked:  1\n",
      "Enter the age of the Passenger:  25\n",
      "Enter the Count of the passenger's Sibling and Spouse that they have also travelled with them:  0\n",
      "Enter the Count of the passenger's Parent and Children that they have also travelled with them:  1\n",
      "Enter the Fare of the Ticket of the Passenger that they have travelled:  35\n",
      "If the passenger is Male, write '1'; otherwise, '0':  1\n",
      "Whether the Passenger Embarked from Queenstown (1 for Yes, 0 for No):  1\n",
      "Whether the Passenger Embarked from Southampton (1 for Yes, 0 for No):  0\n"
     ]
    },
    {
     "name": "stdout",
     "output_type": "stream",
     "text": [
      "[0]\n",
      "Passenger Class = 1 \n",
      "Age = 25 \n",
      "Count_of_siblings_and_spouse = 0 \n",
      "count_of_parents_and_children = 1 \n",
      "Fare = 35.0 \n",
      "Male = 1 \n",
      "Embarked_from_Queenstown = 1 \n",
      "Embarked_from_Southampton = 0\n",
      "Based on the values given, the Passenger has Unfortunately not Survived in the Titanic Disaster.\n"
     ]
    },
    {
     "name": "stderr",
     "output_type": "stream",
     "text": [
      "C:\\Users\\vinu0\\anaconda3\\Lib\\site-packages\\sklearn\\base.py:493: UserWarning: X does not have valid feature names, but RandomForestClassifier was fitted with feature names\n",
      "  warnings.warn(\n"
     ]
    }
   ],
   "source": [
    "model = RandomForestClassifier(\n",
    "    bootstrap= True, \n",
    "    criterion= 'entropy', \n",
    "    max_depth= 10,\n",
    "    max_features= 'log2', \n",
    "    min_samples_leaf= 1,\n",
    "    min_samples_split= 2,\n",
    "    n_estimators= 50,\n",
    "    n_jobs= -1,\n",
    "    random_state= 42\n",
    ")\n",
    "model.fit(x_train,y_train)\n",
    "y_pred = model.predict(x_test)\n",
    "accuracy = accuracy_score(y_test,y_pred)\n",
    "print(f\"The accuracy Score for the Random Forest Classifier is {accuracy}\")\n",
    "check()"
   ]
  },
  {
   "cell_type": "markdown",
   "id": "7381f398-3837-4d7b-82a1-4a2ed3bf6097",
   "metadata": {},
   "source": [
    "**Now let us jump into the Ada Boost Classifier And Find the best Parameter to get more accuracy**"
   ]
  },
  {
   "cell_type": "code",
   "execution_count": 68,
   "id": "cd1b0b9b-317f-42b4-af21-c4349637c686",
   "metadata": {},
   "outputs": [
    {
     "name": "stderr",
     "output_type": "stream",
     "text": [
      "C:\\Users\\vinu0\\anaconda3\\Lib\\site-packages\\sklearn\\ensemble\\_weight_boosting.py:527: FutureWarning: The SAMME.R algorithm (the default) is deprecated and will be removed in 1.6. Use the SAMME algorithm to circumvent this warning.\n",
      "  warnings.warn(\n"
     ]
    },
    {
     "name": "stdout",
     "output_type": "stream",
     "text": [
      "The Best parameters are: {'algorithm': 'SAMME.R', 'estimator': DecisionTreeClassifier(max_depth=3), 'learning_rate': 0.01, 'n_estimators': 200, 'random_state': None}\n",
      "The Best Accuracy Score is 0.815856806194591\n"
     ]
    },
    {
     "name": "stderr",
     "output_type": "stream",
     "text": [
      "C:\\Users\\vinu0\\anaconda3\\Lib\\site-packages\\sklearn\\ensemble\\_weight_boosting.py:527: FutureWarning: The SAMME.R algorithm (the default) is deprecated and will be removed in 1.6. Use the SAMME algorithm to circumvent this warning.\n",
      "  warnings.warn(\n"
     ]
    },
    {
     "name": "stdout",
     "output_type": "stream",
     "text": [
      "Test Accuracy for AdaBoost: 0.8565022421524664 \n",
      "Enter input values for the given features: \n"
     ]
    },
    {
     "name": "stdin",
     "output_type": "stream",
     "text": [
      "Enter the class of the Passenger that They have Booked:  2\n",
      "Enter the age of the Passenger:  70\n",
      "Enter the Count of the passenger's Sibling and Spouse that they have also travelled with them:  0\n",
      "Enter the Count of the passenger's Parent and Children that they have also travelled with them:  2\n",
      "Enter the Fare of the Ticket of the Passenger that they have travelled:  72\n",
      "If the passenger is Male, write '1'; otherwise, '0':  0\n",
      "Whether the Passenger Embarked from Queenstown (1 for Yes, 0 for No):  0\n",
      "Whether the Passenger Embarked from Southampton (1 for Yes, 0 for No):  1\n"
     ]
    },
    {
     "name": "stdout",
     "output_type": "stream",
     "text": [
      "[1]\n",
      "Passenger Class = 2 \n",
      "Age = 70 \n",
      "Count_of_siblings_and_spouse = 0 \n",
      "count_of_parents_and_children = 2 \n",
      "Fare = 72.0 \n",
      "Male = 0 \n",
      "Embarked_from_Queenstown = 0 \n",
      "Embarked_from_Southampton = 1\n",
      "Based on the values given, the Passenger has Survived from the Titanic Disaster.\n"
     ]
    },
    {
     "name": "stderr",
     "output_type": "stream",
     "text": [
      "C:\\Users\\vinu0\\anaconda3\\Lib\\site-packages\\sklearn\\base.py:493: UserWarning: X does not have valid feature names, but AdaBoostClassifier was fitted with feature names\n",
      "  warnings.warn(\n"
     ]
    }
   ],
   "source": [
    "from sklearn.tree import DecisionTreeClassifier\n",
    "parameters = { 'estimator': [None, DecisionTreeClassifier(max_depth=1), DecisionTreeClassifier(max_depth=3)], \n",
    "              'n_estimators': [50, 100, 200], \n",
    "              'learning_rate': [0.01, 0.1, 0.5, 1.0], \n",
    "              'algorithm': ['SAMME', 'SAMME.R'], \n",
    "              'random_state': [None, 42] \n",
    "             } \n",
    "model = AdaBoostClassifier()\n",
    "grid_search = GridSearchCV(model, parameters, cv=5, scoring='accuracy', n_jobs=4) \n",
    "grid_search.fit(x_train, y_train) \n",
    "best_param = grid_search.best_params_ \n",
    "best_score = grid_search.best_score_ \n",
    "print(f\"The Best parameters are: {best_param}\") \n",
    "print(f\"The Best Accuracy Score is {best_score}\") \n",
    "model = AdaBoostClassifier(**best_param) \n",
    "model.fit(x_train, y_train)\n",
    "y_pred= model.predict(x_test)\n",
    "accuracy = accuracy_score(y_test, y_pred)\n",
    "print(f\"Test Accuracy for AdaBoost: {accuracy} \")\n",
    "check()"
   ]
  },
  {
   "cell_type": "markdown",
   "id": "715a65d3-df15-470a-987d-126d9fa8e0da",
   "metadata": {},
   "source": [
    "# Therefore I have built a reliable predictive model for passenger survival, emphasizing key features like class, age, and fare. The project highlighted the power of data-driven analysis in historical contexts."
   ]
  }
 ],
 "metadata": {
  "kernelspec": {
   "display_name": "Python 3 (ipykernel)",
   "language": "python",
   "name": "python3"
  },
  "language_info": {
   "codemirror_mode": {
    "name": "ipython",
    "version": 3
   },
   "file_extension": ".py",
   "mimetype": "text/x-python",
   "name": "python",
   "nbconvert_exporter": "python",
   "pygments_lexer": "ipython3",
   "version": "3.12.4"
  }
 },
 "nbformat": 4,
 "nbformat_minor": 5
}
